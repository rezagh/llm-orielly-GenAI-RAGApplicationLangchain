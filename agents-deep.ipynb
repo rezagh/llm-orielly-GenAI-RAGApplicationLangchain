{
 "cells": [
  {
   "cell_type": "markdown",
   "id": "9995428c",
   "metadata": {},
   "source": [
    "## Getting a bit more deeper into Agents"
   ]
  },
  {
   "cell_type": "markdown",
   "id": "d43822e8",
   "metadata": {},
   "source": [
    "### Conversational ReAct Agents\n",
    "This agent is designed for use in conversational settings. It incorporates the React framework to determine which tool to use and utilizes memory to remember previous conversation interactions."
   ]
  },
  {
   "cell_type": "code",
   "execution_count": 7,
   "id": "e3da1f22",
   "metadata": {},
   "outputs": [
    {
     "data": {
      "text/plain": [
       "True"
      ]
     },
     "execution_count": 7,
     "metadata": {},
     "output_type": "execute_result"
    }
   ],
   "source": [
    "from langchain.agents import create_react_agent, initialize_agent, load_tools\n",
    "from langchain_openai import ChatOpenAI\n",
    "from langchain.memory import ConversationBufferMemory\n",
    "from dotenv import load_dotenv\n",
    "load_dotenv()"
   ]
  },
  {
   "cell_type": "code",
   "execution_count": 2,
   "id": "4c116d09",
   "metadata": {},
   "outputs": [],
   "source": [
    "llm = ChatOpenAI(temperature=0, model_name='gpt-3.5-turbo-0125')"
   ]
  },
  {
   "cell_type": "code",
   "execution_count": 4,
   "id": "d7587b94",
   "metadata": {},
   "outputs": [],
   "source": [
    "tools = load_tools([\"llm-math\"],  llm=llm)"
   ]
  },
  {
   "cell_type": "code",
   "execution_count": 13,
   "id": "2135da4f",
   "metadata": {},
   "outputs": [
    {
     "name": "stderr",
     "output_type": "stream",
     "text": [
      "/Users/reza.ghafari/.local/share/virtualenvs/llm-orielly-GenAI-RAGApplicationLangchain-haYDCRmz/lib/python3.12/site-packages/langsmith/client.py:323: LangSmithMissingAPIKeyWarning: API key must be provided when using hosted LangSmith API\n",
      "  warnings.warn(\n"
     ]
    }
   ],
   "source": [
    "\n",
    "\n",
    "from langchain import hub\n",
    "#from langchain_community.llms import OpenAI\n",
    "from langchain_openai import ChatOpenAI\n",
    "from langchain.agents import AgentExecutor, create_react_agent,load_tools\n",
    "\n",
    "prompt = hub.pull(\"hwchase17/react\")\n",
    "llm = ChatOpenAI(temperature=0, model_name='gpt-3.5-turbo-0125')\n",
    "# memory should not be more than the model tokens\n",
    "# keeps the results of the past conversation to use in the current conversation\n",
    "memory = ConversationBufferMemory(memory_key=\"chat_history\")\n",
    "tools = load_tools([\"llm-math\"],  llm=llm)\n",
    "\n",
    "\n",
    "agent = create_react_agent(model, tools, prompt)\n",
    "agent_executor = AgentExecutor(agent=agent, tools=tools, verbose=True, max_iterations=3, memory=memory)\n",
    "\n",
    "\n",
    "#initialize agent with tools\n",
    "conversational_agent = initialize_agent(\n",
    "    agent=\"zero-shot-react-description\",\n",
    "    tools=tools,\n",
    "    llm=llm,\n",
    "    verbose=True,\n",
    "    max_iterations=10\n",
    ")\n"
   ]
  },
  {
   "cell_type": "code",
   "execution_count": 14,
   "id": "641ac30b",
   "metadata": {},
   "outputs": [
    {
     "name": "stderr",
     "output_type": "stream",
     "text": [
      "/var/folders/yx/h4n08kfj24v8y1_6xhj4p_6c0000gq/T/ipykernel_9895/2625776580.py:1: LangChainDeprecationWarning: The method `Chain.run` was deprecated in langchain 0.1.0 and will be removed in 1.0. Use :meth:`~invoke` instead.\n",
      "  output_1=conversational_agent.run(\"Add 7 to 9 and tell me the result\")\n",
      "Error in StdOutCallbackHandler.on_chain_start callback: AttributeError(\"'NoneType' object has no attribute 'get'\")\n"
     ]
    },
    {
     "name": "stdout",
     "output_type": "stream",
     "text": [
      "\u001b[32;1m\u001b[1;3mI should use the Calculator tool to add 7 to 9.\n",
      "Action: Calculator\n",
      "Action Input: 7 + 9\u001b[0m\n",
      "Observation: \u001b[36;1m\u001b[1;3mAnswer: 16\u001b[0m\n",
      "Thought:"
     ]
    },
    {
     "name": "stderr",
     "output_type": "stream",
     "text": [
      "Error in StdOutCallbackHandler.on_chain_start callback: AttributeError(\"'NoneType' object has no attribute 'get'\")\n"
     ]
    },
    {
     "name": "stdout",
     "output_type": "stream",
     "text": [
      "\u001b[32;1m\u001b[1;3mI now know the final answer\n",
      "Final Answer: 16\u001b[0m\n",
      "\n",
      "\u001b[1m> Finished chain.\u001b[0m\n",
      "\u001b[32;1m\u001b[1;3mI need to use the Calculator tool to add 5 to the previous result.\n",
      "Action: Calculator\n",
      "Action Input: 5 + previous result\u001b[0m\n",
      "Observation: \u001b[36;1m\u001b[1;3mAnswer: 13.222831614237718\u001b[0m\n",
      "Thought:\u001b[32;1m\u001b[1;3mI now know the final answer\n",
      "Final Answer: 13.222831614237718\u001b[0m\n",
      "\n",
      "\u001b[1m> Finished chain.\u001b[0m\n"
     ]
    }
   ],
   "source": [
    "output_1=conversational_agent.run(\"Add 7 to 9 and tell me the result\")\n",
    "output_2=conversational_agent.run(\"Add 5 to the previous result\")"
   ]
  },
  {
   "cell_type": "code",
   "execution_count": 56,
   "id": "af86bb45",
   "metadata": {},
   "outputs": [
    {
     "name": "stdout",
     "output_type": "stream",
     "text": [
      "The result of adding 7 to 9 is 16.\n",
      "The result of adding 5 to the previous result of 16 is 21.\n"
     ]
    }
   ],
   "source": [
    "print(output_1)\n",
    "print(output_2)"
   ]
  },
  {
   "cell_type": "markdown",
   "id": "89ccc34a",
   "metadata": {},
   "source": [
    "## ReAct Docstore\n",
    "This agent utilizes the React framework to communicate with a docstore. It requires the availability of a Search tool and a Lookup tool with identical names. The Search tool is used to search for a document, while the Lookup tool looks up a term within the most recently found document."
   ]
  },
  {
   "cell_type": "markdown",
   "id": "6e3d7420",
   "metadata": {},
   "source": [
    "A `docstore` in Langchain is essentially a storage system for documents. It provides a way for Langchain agents to access and interact with information. Think of it like a library, but instead of books, it holds pieces of text and associated data."
   ]
  },
  {
   "cell_type": "code",
   "execution_count": 15,
   "id": "8f602d64",
   "metadata": {},
   "outputs": [],
   "source": [
    "from langchain.agents import initialize_agent, Tool\n",
    "from langchain import Wikipedia\n",
    "from langchain.agents.react.base import DocstoreExplorer"
   ]
  },
  {
   "cell_type": "code",
   "execution_count": 17,
   "id": "6dc87455",
   "metadata": {},
   "outputs": [
    {
     "name": "stderr",
     "output_type": "stream",
     "text": [
      "/var/folders/yx/h4n08kfj24v8y1_6xhj4p_6c0000gq/T/ipykernel_9895/631535798.py:1: LangChainDeprecationWarning: The class `DocstoreExplorer` was deprecated in LangChain 0.1.0 and will be removed in 1.0\n",
      "  docstore = DocstoreExplorer(Wikipedia())\n"
     ]
    }
   ],
   "source": [
    "docstore = DocstoreExplorer(Wikipedia())\n",
    "tools=[\n",
    "    Tool(name=\"Search\", func=docstore.search, description=\"useful for when you need to search wikipedia\"),\n",
    "    Tool(name=\"Lookup\", func=docstore.lookup, description=\"useful for when you need to lookup a term in wikipedia\")]\n",
    "\n",
    "#intializing the agent\n",
    "llm = OpenAI(temperature=0)\n",
    "docstore_agent=initialize_agent(\n",
    "    tools,\n",
    "    llm,\n",
    "    agent=\"react-docstore\",\n",
    "    verbose=True,\n",
    "    handle_parsing_errors=True,\n",
    "    max_iterations=8\n",
    ")"
   ]
  },
  {
   "cell_type": "code",
   "execution_count": 18,
   "id": "67b08b47",
   "metadata": {},
   "outputs": [
    {
     "name": "stderr",
     "output_type": "stream",
     "text": [
      "/var/folders/yx/h4n08kfj24v8y1_6xhj4p_6c0000gq/T/ipykernel_9895/836576075.py:1: LangChainDeprecationWarning: The method `Chain.__call__` was deprecated in langchain 0.1.0 and will be removed in 1.0. Use :meth:`~invoke` instead.\n",
      "  docstore_agent(\"Tell me a few key things about Mahatma Gandhi.\")\n",
      "Error in StdOutCallbackHandler.on_chain_start callback: AttributeError(\"'NoneType' object has no attribute 'get'\")\n"
     ]
    },
    {
     "name": "stdout",
     "output_type": "stream",
     "text": [
      "\u001b[32;1m\u001b[1;3mThought: I need to search Mahatma Gandhi and find key information about him.\n",
      "Action: Search[Mahatma Gandhi]\u001b[0m\n",
      "Observation: \u001b[36;1m\u001b[1;3mMohandas Karamchand Gandhi (ISO: Mōhanadāsa Karamacaṁda Gāṁdhī; 2 October 1869 – 30 January 1948) was an Indian lawyer, anti-colonial nationalist, and political ethicist who employed nonviolent resistance to lead the successful campaign for India's independence from British rule. He inspired movements for civil rights and freedom across the world. The honorific Mahātmā (from Sanskrit 'great-souled, venerable'), first applied to him in South Africa in 1914, is now used throughout the world.\n",
      "Born and raised in a Hindu family in coastal Gujarat, Gandhi trained in the law at the Inner Temple in London and was called to the bar in June 1891, at the age of 22. After two uncertain years in India, where he was unable to start a successful law practice, Gandhi moved to South Africa in 1893 to represent an Indian merchant in a lawsuit. He went on to live in South Africa for 21 years. There, Gandhi raised a family and first employed nonviolent resistance in a campaign for civil rights. In 1915, aged 45, he returned to India and soon set about organising peasants, farmers, and urban labourers to protest against discrimination and excessive land-tax.\n",
      "Assuming leadership of the Indian National Congress in 1921, Gandhi led nationwide campaigns for easing poverty, expanding women's rights, building religious and ethnic amity, ending untouchability, and, above all, achieving swaraj or self-rule. Gandhi adopted the short dhoti woven with hand-spun yarn as a mark of identification with India's rural poor. He began to live in a self-sufficient residential community, to eat simple food, and undertake long fasts as a means of both introspection and political protest. Bringing anti-colonial nationalism to the common Indians, Gandhi led them in challenging the British-imposed salt tax with the 400 km (250 mi) Dandi Salt March in 1930 and in calling for the British to quit India in 1942. He was imprisoned many times and for many years in both South Africa and India.\n",
      "Gandhi's vision of an independent India based on religious pluralism was challenged in the early 1940s by a Muslim nationalism which demanded a separate homeland for Muslims within British India. In August 1947, Britain granted independence, but the British Indian Empire was partitioned into two dominions, a Hindu-majority India and a Muslim-majority Pakistan. As many displaced Hindus, Muslims, and Sikhs made their way to their new lands, religious violence broke out, especially in the Punjab and Bengal. Abstaining from the official celebration of independence, Gandhi visited the affected areas, attempting to alleviate distress. In the months following, he undertook several hunger strikes to stop the religious violence. The last of these was begun in Delhi on 12 January 1948, when Gandhi was 78. The belief that Gandhi had been too resolute in his defence of both Pakistan and Indian Muslims spread among some Hindus in India. Among these was Nathuram Godse, a militant Hindu nationalist from Pune, western India, who assassinated Gandhi by firing three bullets into his chest at an interfaith prayer meeting in Delhi on 30 January 1948. \n",
      "Gandhi's birthday, 2 October, is commemorated in India as Gandhi Jayanti, a national holiday, and worldwide as the International Day of Nonviolence. Gandhi is considered to be the Father of the Nation in post-colonial India. During India's nationalist movement and in several decades immediately after, he was also commonly called Bapu (Gujarati endearment for \"father\", roughly \"papa\", \"daddy\").\u001b[0m\n",
      "Thought:\u001b[32;1m\u001b[1;3m Mahatma Gandhi was an Indian lawyer, anti-colonial nationalist, and political ethicist who employed nonviolent resistance to lead the successful campaign for India's independence from British rule. He is also known as the Father of the Nation in post-colonial India and is commemorated on his birthday, October 2nd, as Gandhi Jayanti. He is also recognized worldwide as the International Day of Nonviolence. He was assassinated in 1948 by a militant Hindu nationalist. \n",
      "Action: Finish[Indian lawyer, anti-colonial nationalist, political ethicist, nonviolent resistance, Father of the Nation, Gandhi Jayanti, International Day of Nonviolence, assassinated by militant Hindu nationalist]\u001b[0m\n",
      "\n",
      "\u001b[1m> Finished chain.\u001b[0m\n"
     ]
    },
    {
     "data": {
      "text/plain": [
       "{'input': 'Tell me a few key things about Mahatma Gandhi.',\n",
       " 'output': 'Indian lawyer, anti-colonial nationalist, political ethicist, nonviolent resistance, Father of the Nation, Gandhi Jayanti, International Day of Nonviolence, assassinated by militant Hindu nationalist'}"
      ]
     },
     "execution_count": 18,
     "metadata": {},
     "output_type": "execute_result"
    }
   ],
   "source": [
    "docstore_agent(\"Tell me a few key things about Mahatma Gandhi.\")"
   ]
  },
  {
   "cell_type": "markdown",
   "id": "a12108dd",
   "metadata": {},
   "source": [
    "## Self-ask with Search\n",
    "This agent utilizes the Intermediate Answer tool for self-asking questions. This allows llm to give answers to a question it was not trained on."
   ]
  },
  {
   "cell_type": "code",
   "execution_count": 19,
   "id": "5edca0f3",
   "metadata": {},
   "outputs": [],
   "source": [
    "from langchain.tools import DuckDuckGoSearchRun\n",
    "search = DuckDuckGoSearchRun()\n",
    "\n",
    "tools = [\n",
    "    Tool(\n",
    "        func=search.run,\n",
    "        name=\"Intermediate Answer\",\n",
    "        description=\"useful for when you need to search the internet for information\"\n",
    "    )\n",
    "\n",
    "]\n",
    "\n",
    "agent = initialize_agent(\n",
    "    tools=tools,\n",
    "    llm=llm,\n",
    "    agent=\"self-ask-with-search\",\n",
    "    verbose=True,\n",
    "    handle_parsing_errors=True\n",
    ")"
   ]
  },
  {
   "cell_type": "code",
   "execution_count": 20,
   "id": "b024ca1e",
   "metadata": {},
   "outputs": [
    {
     "name": "stderr",
     "output_type": "stream",
     "text": [
      "Error in StdOutCallbackHandler.on_chain_start callback: AttributeError(\"'NoneType' object has no attribute 'get'\")\n"
     ]
    },
    {
     "name": "stdout",
     "output_type": "stream",
     "text": [
      "\u001b[32;1m\u001b[1;3m Yes.\n",
      "Follow up: When did the first Moon landing take place?\u001b[0m\n",
      "Intermediate answer: \u001b[36;1m\u001b[1;3mIn July 1969, Apollo 11 astronauts Neil A. Armstrong, Michael Collins, and Edwin E. \"Buzz\" Aldrin completed humanity's first landing on the Moon. They fulfilled President John F. Kennedy's national goal , set in May 1961, to land a man on the Moon and return him safely to the Earth before the end of the decade. Apollo 11, U.S. spaceflight during which commander Neil Armstrong and lunar module pilot Edwin (\"Buzz\") Aldrin, Jr., on July 20, 1969, became the first people to land on the Moon and walk the lunar surface. Apollo 11 was the culmination of the Apollo program and a massive national commitment by the United States to beat the Soviet Union in ... Apollo 11 Mission Highlights. Watch highlights of the Apollo 11 mission including the launch on July 16, 1969, the landing of the lunar module, Neil Armstrong's first steps on the Moon, splashdown, and more. Watch on NASA+. 20 July 1969—Astronaut Edwin E. Aldrin Jr., lunar module pilot, walks on the surface of the moon near the leg of the ... Neil Armstrong (1930-2012) was an American astronaut who became the first human to walk on the moon on July 20, 1969, as part of the Apollo 11 mission. ... Life After the Moon Landing. Witness Neil Armstrong take humankind's first steps on the lunar surface during NASA's Apollo 11 mission Perhaps the most famous of all space films, these clips document the arrival of the first human beings on the Moon during the afternoon of July 20, 1969. They comprise footage of the landing of the Apollo 11 spacecraft, taken with a 16-mm camera mounted in Edwin Aldrin's window, and Neil ...\u001b[0m\n",
      "\u001b[32;1m\u001b[1;3mFollow up: Who was the president of the USA at the time of the first Moon landing?\u001b[0m\n",
      "Intermediate answer: \u001b[36;1m\u001b[1;3mThe rock went on public display two days later at the Smithsonian's Arts and Industries Building, the first time the public could view a Moon rock. Left: Apollo 11 astronauts Michael Collins, left, Edwin E. \"Buzz Aldrin, and Neil A. Armstrong each addressed a Joint Meeting of Congress, with Vice President Spiro T. Agnew and Speaker of the ... Apollo 11 Mission Highlights. Watch highlights of the Apollo 11 mission including the launch on July 16, 1969, the landing of the lunar module, Neil Armstrong's first steps on the Moon, splashdown, and more. Watch on NASA+. 20 July 1969—Astronaut Edwin E. Aldrin Jr., lunar module pilot, walks on the surface of the moon near the leg of the ... Apollo 11, U.S. spaceflight during which commander Neil Armstrong and lunar module pilot Edwin (\"Buzz\") Aldrin, Jr., on July 20, 1969, became the first people to land on the Moon and walk the lunar surface. Apollo 11 was the culmination of the Apollo program and a massive national commitment by the United States to beat the Soviet Union in ... In July 1969, Apollo 11 astronauts Neil A. Armstrong, Michael Collins, and Edwin E. \"Buzz\" Aldrin completed humanity's first landing on the Moon. They fulfilled President John F. Kennedy's national goal , set in May 1961, to land a man on the Moon and return him safely to the Earth before the end of the decade. The Apollo program, also known as Project Apollo, was the United States human spaceflight program carried out by the National Aeronautics and Space Administration (NASA), which succeeded in preparing and landing the first men [2] on the Moon from 1968 to 1972.It was first conceived in 1960 during President Dwight D. Eisenhower's administration as a three-person spacecraft to follow the one ...\u001b[0m\n",
      "\u001b[32;1m\u001b[1;3mFollow up: Who was the president of the USA during the Apollo 11 mission?\u001b[0m\n",
      "Intermediate answer: \u001b[36;1m\u001b[1;3mApollo 11 Mission Highlights. Watch highlights of the Apollo 11 mission including the launch on July 16, 1969, the landing of the lunar module, Neil Armstrong's first steps on the Moon, splashdown, and more. Watch on NASA+. 20 July 1969—Astronaut Edwin E. Aldrin Jr., lunar module pilot, walks on the surface of the moon near the leg of the ... Apollo 11, U.S. spaceflight during which commander Neil Armstrong and lunar module pilot Edwin (\"Buzz\") Aldrin, Jr., on July 20, 1969, became the first people to land on the Moon and walk the lunar surface. Apollo 11 was the culmination of the Apollo program and a massive national commitment by the United States to beat the Soviet Union in ... In July 1969, Apollo 11 astronauts Neil A. Armstrong, Michael Collins, and Edwin E. \"Buzz\" Aldrin completed humanity's first landing on the Moon. They fulfilled President John F. Kennedy's national goal, set in May 1961, to land a man on the Moon and return him safely to the Earth before the end of the decade. Scientists began examining ... Witness Neil Armstrong take humankind's first steps on the lunar surface during NASA's Apollo 11 mission Perhaps the most famous of all space films, these clips document the arrival of the first human beings on the Moon during the afternoon of July 20, 1969. They comprise footage of the landing of the Apollo 11 spacecraft, taken with a 16-mm camera mounted in Edwin Aldrin's window, and Neil ... The Apollo program, also known as Project Apollo, was the United States human spaceflight program carried out by the National Aeronautics and Space Administration (NASA), which succeeded in preparing and landing the first men [2] on the Moon from 1968 to 1972.It was first conceived in 1960 during President Dwight D. Eisenhower's administration as a three-person spacecraft to follow the one ...\u001b[0m\n",
      "\u001b[32;1m\u001b[1;3mSo the final answer is: John F. Kennedy\u001b[0m\n",
      "\n",
      "\u001b[1m> Finished chain.\u001b[0m\n",
      "{'input': 'Question: Who was the president of USA when the first Moom landing took place?', 'output': 'John F. Kennedy'}\n"
     ]
    }
   ],
   "source": [
    "print(agent.invoke(\"Question: Who was the president of USA when the first Moom landing took place?\"))"
   ]
  },
  {
   "cell_type": "markdown",
   "id": "d9a55eb7",
   "metadata": {},
   "source": [
    "The above code imports necessary modules from the LangChain library, including agents and language models. It sets up a conversational agent with a specific agent configuration called “self-ask-with-search”. The agent utilizes the “Intermediate Answer” tool, which performs Wikipedia searches."
   ]
  },
  {
   "cell_type": "code",
   "execution_count": null,
   "id": "7dbe03fc",
   "metadata": {},
   "outputs": [],
   "source": []
  },
  {
   "cell_type": "code",
   "execution_count": null,
   "id": "de75d8d8",
   "metadata": {},
   "outputs": [],
   "source": []
  },
  {
   "cell_type": "code",
   "execution_count": null,
   "id": "83a2ca08",
   "metadata": {},
   "outputs": [],
   "source": []
  }
 ],
 "metadata": {
  "kernelspec": {
   "display_name": "Python 3 (ipykernel)",
   "language": "python",
   "name": "python3"
  },
  "language_info": {
   "codemirror_mode": {
    "name": "ipython",
    "version": 3
   },
   "file_extension": ".py",
   "mimetype": "text/x-python",
   "name": "python",
   "nbconvert_exporter": "python",
   "pygments_lexer": "ipython3",
   "version": "3.12.6"
  }
 },
 "nbformat": 4,
 "nbformat_minor": 5
}
