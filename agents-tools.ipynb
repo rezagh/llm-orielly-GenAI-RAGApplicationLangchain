{
 "cells": [
  {
   "cell_type": "markdown",
   "id": "4da4d5ac",
   "metadata": {},
   "source": [
    "## Agents and Tools"
   ]
  },
  {
   "cell_type": "markdown",
   "id": "1caae071",
   "metadata": {},
   "source": [
    "### Agents: Agents enable LLMs to work with tools that perform various tasks\n",
    "To use agents, we require three things:\n",
    "- A base LLM,\n",
    "- A tool that we will be interacting with,\n",
    "- An agent to control the interaction."
   ]
  },
  {
   "cell_type": "markdown",
   "id": "4323f74b",
   "metadata": {},
   "source": [
    "### In the following example, we will use the Math tool to perform some simple math operations"
   ]
  },
  {
   "cell_type": "code",
   "execution_count": 2,
   "id": "a3f6355f",
   "metadata": {},
   "outputs": [
    {
     "data": {
      "text/plain": [
       "True"
      ]
     },
     "execution_count": 2,
     "metadata": {},
     "output_type": "execute_result"
    }
   ],
   "source": [
    "from dotenv import load_dotenv\n",
    "from langchain_openai import OpenAI\n",
    "\n",
    "\n",
    "import math\n",
    "from typing import Annotated, Sequence\n",
    "\n",
    "from langchain_core.messages import BaseMessage\n",
    "from langchain_core.runnables import RunnableConfig\n",
    "from langchain_core.tools import tool\n",
    "from langchain_openai import ChatOpenAI\n",
    "from langgraph.graph import END, StateGraph\n",
    "from langgraph.graph.message import add_messages\n",
    "from langgraph.prebuilt.tool_node import ToolNode\n",
    "import numexpr\n",
    "from typing_extensions import TypedDict\n",
    "\n",
    "\n",
    "load_dotenv()"
   ]
  },
  {
   "cell_type": "code",
   "execution_count": 3,
   "id": "ff93acf9",
   "metadata": {},
   "outputs": [],
   "source": [
    "llm = OpenAI(\n",
    "    temperature=0,\n",
    "    model_name=\"gpt-3.5-turbo-instruct\"\n",
    ")"
   ]
  },
  {
   "cell_type": "code",
   "execution_count": 4,
   "id": "83dabb48",
   "metadata": {},
   "outputs": [],
   "source": [
    "from langchain.chains import LLMMathChain # Chain that interprets a prompt and executes python code to do math.\n",
    "from langchain.agents import Tool"
   ]
  },
  {
   "cell_type": "code",
   "execution_count": 30,
   "id": "40f27906",
   "metadata": {},
   "outputs": [],
   "source": [
    "# LLMMathChain is deprecated - https://api.python.langchain.com/en/latest/chains/langchain.chains.llm_math.base.LLMMathChain.html\n",
    "\n",
    "\n",
    "\n",
    "# Define a simple calculator tool\n",
    "def simple_calculator(query: str) -> str:\n",
    "    try:\n",
    "        result = eval(query)  # Using eval cautiously for demo\n",
    "        return str(result)\n",
    "    except Exception as e:\n",
    "        return f\"Error: {e}\"\n",
    "\n",
    "# Create the tool\n",
    "math_tool = Tool(\n",
    "    name='Calculator',\n",
    "    func=simple_calculator,\n",
    "    description='A tool for performing simple mathematical operations.'\n",
    "    \n",
    ")\n",
    "\n",
    "tools = [math_tool]  # is a list of possible Tools that your agent can use\n",
    "\n",
    "# initialize the math tool\n",
    "#llm_math = LLMMathChain(llm=llm)\n",
    "# math_tool = Tool(\n",
    "#     name='Calculator',\n",
    "#     func=,\n",
    "#     description='Useful for when you need to answer questions about math.'\n",
    "# )\n",
    "# # when giving tools to LLM, we must pass as list of tools\n",
    "# tools = [math_tool]  # is a list of possible Tools that your agent can use"
   ]
  },
  {
   "cell_type": "code",
   "execution_count": 8,
   "id": "7c918e49",
   "metadata": {},
   "outputs": [
    {
     "name": "stdout",
     "output_type": "stream",
     "text": [
      "Calculator --- A tool for performing simple mathematical operations.\n"
     ]
    }
   ],
   "source": [
    "print(tools[0].name, \"---\", tools[0].description)"
   ]
  },
  {
   "cell_type": "markdown",
   "id": "e0ceb3c1",
   "metadata": {},
   "source": [
    "## Now create an Agent\n",
    "#### Zero-shot ReAct\n",
    "The Zero-shot ReAct Agent is a language generation model that can create realistic contexts even without being trained on specific data. It can be used for various tasks such as generating creative text formats, language translation, and generating different types of creative content."
   ]
  },
  {
   "cell_type": "code",
   "execution_count": 35,
   "id": "7fcec1ac",
   "metadata": {},
   "outputs": [
    {
     "name": "stderr",
     "output_type": "stream",
     "text": [
      "/Users/reza.ghafari/.local/share/virtualenvs/llm-orielly-GenAI-RAGApplicationLangchain-haYDCRmz/lib/python3.12/site-packages/langsmith/client.py:323: LangSmithMissingAPIKeyWarning: API key must be provided when using hosted LangSmith API\n",
      "  warnings.warn(\n",
      "Error in StdOutCallbackHandler.on_chain_start callback: AttributeError(\"'NoneType' object has no attribute 'get'\")\n"
     ]
    },
    {
     "name": "stdout",
     "output_type": "stream",
     "text": [
      "\u001b[32;1m\u001b[1;3m I can use the Calculator tool to add two numbers together.\n",
      "Action: Calculator\n",
      "Action Input: 2 + 2\u001b[0m\u001b[36;1m\u001b[1;3m4\u001b[0m\u001b[32;1m\u001b[1;3m4 is the sum of 2 and 2.\n",
      "Final Answer: 4\u001b[0m\n",
      "\n",
      "\u001b[1m> Finished chain.\u001b[0m\n"
     ]
    },
    {
     "data": {
      "text/plain": [
       "{'input': 'What is 2 + 2?', 'output': '4'}"
      ]
     },
     "execution_count": 35,
     "metadata": {},
     "output_type": "execute_result"
    }
   ],
   "source": [
    "from langchain.agents import initialize_agent\n",
    "from langchain.agents.react.agent import create_react_agent\n",
    "from langchain.prompts import PromptTemplate\n",
    "\n",
    "\n",
    "\n",
    "from langchain import hub\n",
    "from langchain_community.llms import OpenAI\n",
    "from langchain.agents import AgentExecutor, create_react_agent\n",
    "\n",
    "prompt = hub.pull(\"hwchase17/react\")\n",
    "model = OpenAI()\n",
    "\n",
    "agent = create_react_agent(model, tools, prompt)\n",
    "agent_executor = AgentExecutor(agent=agent, tools=tools, verbose=True)\n",
    "agent_executor.invoke({\"input\": \"What is 2 + 2?\"})\n",
    "\n",
    "\n"
   ]
  },
  {
   "cell_type": "code",
   "execution_count": 36,
   "id": "249d215b",
   "metadata": {},
   "outputs": [
    {
     "name": "stderr",
     "output_type": "stream",
     "text": [
      "Error in StdOutCallbackHandler.on_chain_start callback: AttributeError(\"'NoneType' object has no attribute 'get'\")\n"
     ]
    },
    {
     "name": "stdout",
     "output_type": "stream",
     "text": [
      "\u001b[32;1m\u001b[1;3m I need to calculate the area of each room and then add them together to get the total area of the house.\n",
      "Action: Calculator \n",
      "Action Input: 5 x 5 \u001b[0m\u001b[36;1m\u001b[1;3mError: invalid syntax (<string>, line 1)\u001b[0m\u001b[32;1m\u001b[1;3m I need to input the correct mathematical operation to calculate the area.\n",
      "Action: Calculator \n",
      "Action Input: 5 * 5 \u001b[0m\u001b[36;1m\u001b[1;3m25\u001b[0m\u001b[32;1m\u001b[1;3mI need to calculate the area for the other rooms as well.\n",
      "Action: Calculator \n",
      "Action Input: 7 * 6 \u001b[0m\u001b[36;1m\u001b[1;3m42\u001b[0m\u001b[32;1m\u001b[1;3m I need to add all the areas together to get the total area.\n",
      "Action: Calculator \n",
      "Action Input: 25 + 25 + 42 + 6 \u001b[0m\u001b[36;1m\u001b[1;3m98\u001b[0m\u001b[32;1m\u001b[1;3m I now know the final answer.\n",
      "Final Answer: The total area of the house is 98 square metres.\u001b[0m\n",
      "\n",
      "\u001b[1m> Finished chain.\u001b[0m\n"
     ]
    },
    {
     "data": {
      "text/plain": [
       "{'input': '\\n        You are building a house. There are two bedrooms of 5 metres by 5 metres each and drawing cum open kitchen \\n        is 7 metres by 6 metres and balcony of 3 metres by 2 metres. \\n        What is the total area of your house?\\n        ',\n",
       " 'output': 'The total area of the house is 98 square metres.'}"
      ]
     },
     "execution_count": 36,
     "metadata": {},
     "output_type": "execute_result"
    }
   ],
   "source": [
    "problem = \"\"\"\n",
    "        You are building a house. There are two bedrooms of 5 metres by 5 metres each and drawing cum open kitchen \n",
    "        is 7 metres by 6 metres and balcony of 3 metres by 2 metres. \n",
    "        What is the total area of your house?\n",
    "        \"\"\"\n",
    "#zero_shot_agent(problem)\n",
    "\n",
    "agent_executor.invoke({\"input\": problem})\n"
   ]
  },
  {
   "cell_type": "markdown",
   "id": "6e0cc231",
   "metadata": {},
   "source": [
    "## Using mutiple Tools\n",
    "In the following example, we will be using the Duck Duck Go search API as a Tool combined with the Math Tool\n",
    "We will then give the Agent a problem that initiates a search first followed by a Calculation."
   ]
  },
  {
   "cell_type": "code",
   "execution_count": 39,
   "id": "4fc1448a",
   "metadata": {},
   "outputs": [],
   "source": [
    "# Define the Tools\n",
    "\n",
    "from langchain.tools import DuckDuckGoSearchRun\n",
    "\n",
    "search = DuckDuckGoSearchRun()\n",
    "\n",
    "search_tool = Tool.from_function(\n",
    "    func=search.run,\n",
    "    name=\"Search\",\n",
    "    description=\"useful for when you need to search the internet for information\"\n",
    ")\n",
    "\n",
    "#llm_math_chain = LLMMathChain(llm=llm, verbose=True)\n",
    "\n",
    "math_tool = Tool.from_function(\n",
    "    func=search_tool.run,\n",
    "    name=\"Calculator\",\n",
    "    description=\"Useful for when you are asked to perform math calculations\"\n",
    ")"
   ]
  },
  {
   "cell_type": "code",
   "execution_count": 41,
   "id": "272a83e6",
   "metadata": {},
   "outputs": [
    {
     "name": "stderr",
     "output_type": "stream",
     "text": [
      "/Users/reza.ghafari/.local/share/virtualenvs/llm-orielly-GenAI-RAGApplicationLangchain-haYDCRmz/lib/python3.12/site-packages/langsmith/client.py:323: LangSmithMissingAPIKeyWarning: API key must be provided when using hosted LangSmith API\n",
      "  warnings.warn(\n",
      "Error in StdOutCallbackHandler.on_chain_start callback: AttributeError(\"'NoneType' object has no attribute 'get'\")\n"
     ]
    },
    {
     "name": "stdout",
     "output_type": "stream",
     "text": [
      "\u001b[32;1m\u001b[1;3m I should use a calculator to find the answer to this math problem.\n",
      "Action: Calculator\n",
      "Action Input: 2 + 2\u001b[0m\u001b[33;1m\u001b[1;3mThis calculator uses addition, subtraction, multiplication or division for calculations on positive or negative decimal numbers, integers, real numbers and whole numbers. Visit these calculators for calculations on decimal numbers and see the work: Free online math calculator to add, subtract, multiply and divide positive and negative numbers. (-7) + (+9) = (+2) Rules for Subtracting Integers. Keep the sign of the first number. Change the subtraction operations to addition operations. Change the sign of the numbers that follow to the opposite, i.e., positive becomes negative, and negative becomes positive. Then follow the rules for addition problems. The game is played seven nights a week, Monday through Sunday. 2by2 was launched as a new MUSL game in Kansas and Nebraska. North Dakota joined the game. The top prize increased from $20,000 to $22,000. The 2by2 Tuesday feature was added. Wyoming joined the game. Idaho joined the game. Here are the steps if you'd like to give the 2-2-2 method a try: Goodson shares the six-week rundown of the 2-2-2 diet: Week 1: Intermittent fasting, which should be a 14-hour fast, and then eating within a 10-hour timeframe. Your meals should be primarily proteins and carbs. Week 2: Intermittent fasting by way of the 5:2 style. ️ How 2+2=5 Became Political Propaganda . While Carr's debate surrounding \"2+2=5\" is somewhat postmodern in nature, the equation has a storied past as a tenet of anti-intellectualism.\u001b[0m\u001b[32;1m\u001b[1;3m2 + 2 = 4\n",
      "Final Answer: 4\u001b[0m\n",
      "\n",
      "\u001b[1m> Finished chain.\u001b[0m\n"
     ]
    },
    {
     "data": {
      "text/plain": [
       "{'input': 'What is 2 + 2?', 'output': '4'}"
      ]
     },
     "execution_count": 41,
     "metadata": {},
     "output_type": "execute_result"
    }
   ],
   "source": [
    "# Define the Agent\n",
    "\n",
    "tools = [search_tool, math_tool]\n",
    "\n",
    "from langchain.agents import initialize_agent\n",
    "from langchain.agents.react.agent import create_react_agent\n",
    "from langchain.prompts import PromptTemplate\n",
    "\n",
    "\n",
    "\n",
    "from langchain import hub\n",
    "from langchain_community.llms import OpenAI\n",
    "from langchain.agents import AgentExecutor, create_react_agent\n",
    "\n",
    "prompt = hub.pull(\"hwchase17/react\")\n",
    "model = OpenAI()\n",
    "\n",
    "agent = create_react_agent(model, tools, prompt)\n",
    "agent_executor = AgentExecutor(agent=agent, tools=tools, verbose=True)\n",
    "\n",
    "\n",
    "\n",
    "# agent = initialize_agent(\n",
    "#     tools,\n",
    "#     llm,\n",
    "#     agent=\"zero-shot-react-description\",\n",
    "#     verbose=True\n",
    "# )"
   ]
  },
  {
   "cell_type": "code",
   "execution_count": 42,
   "id": "0f3387c9",
   "metadata": {},
   "outputs": [
    {
     "name": "stderr",
     "output_type": "stream",
     "text": [
      "Error in StdOutCallbackHandler.on_chain_start callback: AttributeError(\"'NoneType' object has no attribute 'get'\")\n"
     ]
    },
    {
     "name": "stdout",
     "output_type": "stream",
     "text": [
      "\u001b[32;1m\u001b[1;3m Search for a website that provides stock prices and currency conversion rates\n",
      "Action: Search\n",
      "Action Input: \"Microsoft stock price in USD and INR\"\u001b[0m\u001b[36;1m\u001b[1;3mBuy Microsoft Corporation Shares from India at ₹34.8K (as on 11.09.2024). Start investing in Microsoft Corporation now with fractional investing only on INDmoneyapp. Microsoft Corporation (MSFT.NASDAQ): Stock quote, stock chart, quotes, analysis, advice, financials and news for Stock Microsoft Corporation | Nasdaq: MSFT | Nasdaq Microsoft Corporation (MSFT.NASDAQ): Stock quote, stock chart, quotes, analysis, advice, financials and news for Stock Microsoft Corporation | Nasdaq: MSFT | Nasdaq Get a real-time Microsoft Corporation (MSFT) stock price quote with breaking news, financials, statistics, charts and more. Discover real-time Microsoft Corporation Common Stock (MSFT) stock prices, quotes, historical data, news, and Insights for informed trading and investment decisions. Stay ahead with Nasdaq.\u001b[0m\u001b[32;1m\u001b[1;3mI need to calculate the conversion rate from USD to INR\n",
      "Action: Calculator\n",
      "Action Input: USD to INR conversion rate\u001b[0m\u001b[33;1m\u001b[1;3m1 United States dollar = 83.9852 Indian rupee, 1 Indian rupee = 0.0119 United States dollar. Find out the current conversion rate of USD to INR and use the currency calculator to convert any amount. See historical graphs, tables and monthly averages of USD and INR rates. United States Dollar to Indian Rupee. 1 USD = 83.679536 INR Sep 18, 2024 14:47 UTC. 30 days. 60 days. 90 days. 180 days. If you've got a trip to India coming up, you may want to convert some of ... Convert USD to INR Online as per Today's Conversion Rate. Our online currency converter is showing you the value of 1 US Dollar in Indian Rupees according to the current foreign exchange rate'of INR 83.98. Today i.e. Thursday 12/09/2024 , for 1 US Dollar you get 83.98 Indian Rupees. Change in USD to INR rate from previous day is 0%. Dive into historical exchange rates for USD to INR with Wise's currency converter. Analyse past currency performance, track trends, and discover how currencies have fluctuated over time. ... During the past week, the exchange rate of US dollar to Indian rupees has fluctuated between a high of 84.032 on 11-09-2024 and a low of 83.664 on 18-09 ...\u001b[0m\u001b[32;1m\u001b[1;3m Now I know the conversion rate, I can calculate the stock price in INR\n",
      "Action: Calculator\n",
      "Action Input: USD stock price * INR conversion rate\u001b[0m\u001b[33;1m\u001b[1;3mSource: LSEG - data delayed by at least 15 minutes. Get US Dollar/Indian Rupee FX Spot Rate (USDINR=X) real-time currency quotes, news, price and financial information from Reuters to inform your ... Timings : 8:00 AM to 2:00 AM on subsequent day (Monday to Friday) Get the latest market information on the USD/INR including the live USD/INR exchange rate, news, analysis, charts, forecast poll, current trading positions, technical analysis, currency converter, buying & selling rate and historical conversion charts at NSE India, National Stock ... 1 United States dollar = 83.9852 Indian rupee, 1 Indian rupee = 0.0119 United States dollar. Get latest 1 Dollar to INR rates, Dollar to Rupee conversion rates, USD INR Forex rates, USD INR rate forecast, Dollar vs rupee historical rates, technical charts on Moneycontrol. Source: LSEG - data delayed by at least 15 minutes. Get Indian Rupee/US Dollar FX Cross Rate (INRUSD=X) real-time currency quotes, news, price and financial information from Reuters to inform your ...\u001b[0m\u001b[32;1m\u001b[1;3m I now know the final answer\n",
      "Final Answer: Microsoft stock price in USD is $300.00 and in INR is ₹25,194.00.\u001b[0m\n",
      "\n",
      "\u001b[1m> Finished chain.\u001b[0m\n"
     ]
    },
    {
     "data": {
      "text/plain": [
       "{'input': 'Get Microsoft Stock Price taken from Google Finance and display in both USD and INR values',\n",
       " 'output': 'Microsoft stock price in USD is $300.00 and in INR is ₹25,194.00.'}"
      ]
     },
     "execution_count": 42,
     "metadata": {},
     "output_type": "execute_result"
    }
   ],
   "source": [
    "# Run the Agent with the problem\n",
    "\n",
    "agent_executor.invoke({\"input\": \"Get Microsoft Stock Price taken from Google Finance and display in both USD and INR values\"})\n",
    "\n",
    "#agent.run(\"\"\"Get Microsoft Stock Price taken from Google Finance and display in both USD and INR values\"\"\")"
   ]
  },
  {
   "cell_type": "markdown",
   "id": "3f7a5e46",
   "metadata": {},
   "source": [
    "## Create a custom tool"
   ]
  },
  {
   "cell_type": "code",
   "execution_count": 43,
   "id": "1d3dbf54",
   "metadata": {},
   "outputs": [],
   "source": [
    "from langchain.tools import BaseTool\n",
    "from langchain_core.output_parsers import JsonOutputParser\n",
    "from langchain.tools import tool\n",
    "\n",
    "@tool(\"JSON_Response\", return_direct=True)\n",
    "def StructuredResponseTool(question: str):\n",
    "    \"\"\"\n",
    "    use this tool to send a prompt and get a JSON returned \n",
    "    with three fields - Topic, Question_Details and Detailed_Response\n",
    "    \"\"\"\n",
    "    json_prompt = PromptTemplate.from_template(\n",
    "    \"\"\"Return a JSON object with an `answer` key that answers the following question: {question}. \n",
    "        The JSON object will have three fields - Topic, Question_Details and Detailed_Response\"\"\"\n",
    "    )\n",
    "\n",
    "    model = OpenAI(model_name=\"gpt-3.5-turbo-instruct\", temperature=0.5)\n",
    "\n",
    "    json_parser = JsonOutputParser()\n",
    "    json_chain = json_prompt | model | json_parser\n",
    "    x = json_chain.invoke({\"question\": question})\n",
    "    return x"
   ]
  },
  {
   "cell_type": "code",
   "execution_count": 44,
   "id": "b1ca4373",
   "metadata": {},
   "outputs": [],
   "source": [
    "from langchain.chat_models import ChatOpenAI\n",
    "from langchain.prompts import PromptTemplate\n",
    "from langchain.chains.conversation.memory import ConversationBufferWindowMemory"
   ]
  },
  {
   "cell_type": "code",
   "execution_count": 45,
   "id": "965a3838",
   "metadata": {},
   "outputs": [],
   "source": [
    "from langchain.agents import initialize_agent\n",
    "\n",
    "tools = [StructuredResponseTool]\n",
    "\n",
    "# initialize agent with tools\n",
    "zero_shot_agent = initialize_agent(\n",
    "    agent=\"zero-shot-react-description\",\n",
    "    tools=tools,\n",
    "    llm=llm,\n",
    "    verbose=True,\n",
    "    max_iterations=10\n",
    ")"
   ]
  },
  {
   "cell_type": "code",
   "execution_count": 46,
   "id": "ebe8b063",
   "metadata": {},
   "outputs": [
    {
     "name": "stderr",
     "output_type": "stream",
     "text": [
      "Error in StdOutCallbackHandler.on_chain_start callback: AttributeError(\"'NoneType' object has no attribute 'get'\")\n"
     ]
    },
    {
     "name": "stdout",
     "output_type": "stream",
     "text": [
      "\u001b[32;1m\u001b[1;3m I should use the JSON_Response tool to get the answer\n",
      "Action: JSON_Response\n",
      "Action Input: \"Which is the top football team in the world and how\"\u001b[0m\n",
      "Observation: \u001b[36;1m\u001b[1;3m{'Topic': 'Football', 'Question_Details': 'Which is the top football team in the world and how?', 'Detailed_Response': \"The top football team in the world is currently considered to be Liverpool FC from England. This is based on the team's recent success in the UEFA Champions League and their strong performance in the Premier League. Liverpool FC has a talented and well-balanced squad, with world-class players such as Mohamed Salah, Sadio Mane, and Virgil van Dijk. They also have a highly experienced and successful manager in Jurgen Klopp, who has led the team to multiple trophies in recent years. Additionally, Liverpool FC has a dedicated and passionate fan base, known for creating a lively and supportive atmosphere at their home matches. Overall, their consistent success and strong team dynamic make Liverpool FC the top football team in the world.\"}\u001b[0m\n",
      "\u001b[32;1m\u001b[1;3m\u001b[0m\n",
      "\n",
      "\u001b[1m> Finished chain.\u001b[0m\n"
     ]
    },
    {
     "data": {
      "text/plain": [
       "{'Topic': 'Football',\n",
       " 'Question_Details': 'Which is the top football team in the world and how?',\n",
       " 'Detailed_Response': \"The top football team in the world is currently considered to be Liverpool FC from England. This is based on the team's recent success in the UEFA Champions League and their strong performance in the Premier League. Liverpool FC has a talented and well-balanced squad, with world-class players such as Mohamed Salah, Sadio Mane, and Virgil van Dijk. They also have a highly experienced and successful manager in Jurgen Klopp, who has led the team to multiple trophies in recent years. Additionally, Liverpool FC has a dedicated and passionate fan base, known for creating a lively and supportive atmosphere at their home matches. Overall, their consistent success and strong team dynamic make Liverpool FC the top football team in the world.\"}"
      ]
     },
     "execution_count": 46,
     "metadata": {},
     "output_type": "execute_result"
    }
   ],
   "source": [
    "zero_shot_agent.run(input=\"Which is the top football team in the world and how, the response should have three fields in the JSON - topic of the question, the question and the detailed response\")"
   ]
  },
  {
   "cell_type": "code",
   "execution_count": null,
   "id": "8f2a0710",
   "metadata": {},
   "outputs": [],
   "source": []
  },
  {
   "cell_type": "code",
   "execution_count": null,
   "id": "db396abf",
   "metadata": {},
   "outputs": [],
   "source": []
  },
  {
   "cell_type": "code",
   "execution_count": null,
   "id": "cf6ede7b",
   "metadata": {},
   "outputs": [],
   "source": []
  },
  {
   "cell_type": "code",
   "execution_count": null,
   "id": "6fb0adfd",
   "metadata": {},
   "outputs": [],
   "source": []
  },
  {
   "cell_type": "code",
   "execution_count": null,
   "id": "6769ef3c",
   "metadata": {},
   "outputs": [],
   "source": []
  },
  {
   "cell_type": "code",
   "execution_count": null,
   "id": "4132c7b3",
   "metadata": {},
   "outputs": [],
   "source": []
  }
 ],
 "metadata": {
  "kernelspec": {
   "display_name": "Python 3 (ipykernel)",
   "language": "python",
   "name": "python3"
  },
  "language_info": {
   "codemirror_mode": {
    "name": "ipython",
    "version": 3
   },
   "file_extension": ".py",
   "mimetype": "text/x-python",
   "name": "python",
   "nbconvert_exporter": "python",
   "pygments_lexer": "ipython3",
   "version": "3.12.6"
  }
 },
 "nbformat": 4,
 "nbformat_minor": 5
}
